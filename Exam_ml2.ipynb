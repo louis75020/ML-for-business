{
 "cells": [
  {
   "cell_type": "code",
   "execution_count": 134,
   "metadata": {},
   "outputs": [
    {
     "name": "stdout",
     "output_type": "stream",
     "text": [
      "Populating the interactive namespace from numpy and matplotlib\n"
     ]
    }
   ],
   "source": [
    "%pylab inline"
   ]
  },
  {
   "cell_type": "code",
   "execution_count": 135,
   "metadata": {},
   "outputs": [],
   "source": [
    "import pandas as pd\n",
    "from sklearn.svm import LinearSVC\n",
    "from sklearn.metrics import accuracy_score, confusion_matrix\n",
    "from sklearn.model_selection import train_test_split\n",
    "import time"
   ]
  },
  {
   "cell_type": "markdown",
   "metadata": {},
   "source": [
    "# Data preparation"
   ]
  },
  {
   "cell_type": "code",
   "execution_count": 136,
   "metadata": {},
   "outputs": [],
   "source": [
    "data = pd.read_csv(\"C:/Users/louis/Documents/ISF/ML2/data_examen.csv\", sep = ';')"
   ]
  },
  {
   "cell_type": "code",
   "execution_count": 137,
   "metadata": {},
   "outputs": [
    {
     "data": {
      "text/html": [
       "<div>\n",
       "<style scoped>\n",
       "    .dataframe tbody tr th:only-of-type {\n",
       "        vertical-align: middle;\n",
       "    }\n",
       "\n",
       "    .dataframe tbody tr th {\n",
       "        vertical-align: top;\n",
       "    }\n",
       "\n",
       "    .dataframe thead th {\n",
       "        text-align: right;\n",
       "    }\n",
       "</style>\n",
       "<table border=\"1\" class=\"dataframe\">\n",
       "  <thead>\n",
       "    <tr style=\"text-align: right;\">\n",
       "      <th></th>\n",
       "      <th>X1</th>\n",
       "      <th>X2</th>\n",
       "      <th>X3</th>\n",
       "      <th>X4</th>\n",
       "      <th>X5</th>\n",
       "      <th>X6</th>\n",
       "      <th>X7</th>\n",
       "      <th>X8</th>\n",
       "      <th>X9</th>\n",
       "      <th>X10</th>\n",
       "      <th>...</th>\n",
       "      <th>X13</th>\n",
       "      <th>X14</th>\n",
       "      <th>X15</th>\n",
       "      <th>X16</th>\n",
       "      <th>X17</th>\n",
       "      <th>X18</th>\n",
       "      <th>X19</th>\n",
       "      <th>X20</th>\n",
       "      <th>X21</th>\n",
       "      <th>Y</th>\n",
       "    </tr>\n",
       "  </thead>\n",
       "  <tbody>\n",
       "    <tr>\n",
       "      <th>0</th>\n",
       "      <td>0.0</td>\n",
       "      <td>0.00</td>\n",
       "      <td>0.00</td>\n",
       "      <td>0.00</td>\n",
       "      <td>0.0</td>\n",
       "      <td>0.00</td>\n",
       "      <td>0.0</td>\n",
       "      <td>0.00</td>\n",
       "      <td>0.00</td>\n",
       "      <td>0.00</td>\n",
       "      <td>...</td>\n",
       "      <td>2.11</td>\n",
       "      <td>0.7</td>\n",
       "      <td>0.0</td>\n",
       "      <td>0.000</td>\n",
       "      <td>1.975</td>\n",
       "      <td>0.370</td>\n",
       "      <td>35.461</td>\n",
       "      <td>95</td>\n",
       "      <td>461</td>\n",
       "      <td>1</td>\n",
       "    </tr>\n",
       "    <tr>\n",
       "      <th>1</th>\n",
       "      <td>0.0</td>\n",
       "      <td>0.00</td>\n",
       "      <td>0.00</td>\n",
       "      <td>0.00</td>\n",
       "      <td>0.0</td>\n",
       "      <td>0.00</td>\n",
       "      <td>0.0</td>\n",
       "      <td>3.33</td>\n",
       "      <td>0.00</td>\n",
       "      <td>0.00</td>\n",
       "      <td>...</td>\n",
       "      <td>0.00</td>\n",
       "      <td>0.0</td>\n",
       "      <td>0.0</td>\n",
       "      <td>0.352</td>\n",
       "      <td>0.352</td>\n",
       "      <td>0.000</td>\n",
       "      <td>4.000</td>\n",
       "      <td>11</td>\n",
       "      <td>36</td>\n",
       "      <td>1</td>\n",
       "    </tr>\n",
       "    <tr>\n",
       "      <th>2</th>\n",
       "      <td>0.0</td>\n",
       "      <td>0.59</td>\n",
       "      <td>0.00</td>\n",
       "      <td>0.00</td>\n",
       "      <td>0.0</td>\n",
       "      <td>0.59</td>\n",
       "      <td>0.0</td>\n",
       "      <td>0.00</td>\n",
       "      <td>0.00</td>\n",
       "      <td>1.18</td>\n",
       "      <td>...</td>\n",
       "      <td>0.00</td>\n",
       "      <td>0.0</td>\n",
       "      <td>0.0</td>\n",
       "      <td>0.257</td>\n",
       "      <td>0.000</td>\n",
       "      <td>0.000</td>\n",
       "      <td>8.586</td>\n",
       "      <td>66</td>\n",
       "      <td>249</td>\n",
       "      <td>1</td>\n",
       "    </tr>\n",
       "    <tr>\n",
       "      <th>3</th>\n",
       "      <td>0.3</td>\n",
       "      <td>0.00</td>\n",
       "      <td>0.61</td>\n",
       "      <td>0.00</td>\n",
       "      <td>0.0</td>\n",
       "      <td>0.92</td>\n",
       "      <td>0.3</td>\n",
       "      <td>2.15</td>\n",
       "      <td>0.61</td>\n",
       "      <td>0.00</td>\n",
       "      <td>...</td>\n",
       "      <td>1.23</td>\n",
       "      <td>0.0</td>\n",
       "      <td>0.3</td>\n",
       "      <td>0.100</td>\n",
       "      <td>1.053</td>\n",
       "      <td>0.351</td>\n",
       "      <td>3.884</td>\n",
       "      <td>66</td>\n",
       "      <td>303</td>\n",
       "      <td>1</td>\n",
       "    </tr>\n",
       "    <tr>\n",
       "      <th>4</th>\n",
       "      <td>0.0</td>\n",
       "      <td>0.53</td>\n",
       "      <td>0.53</td>\n",
       "      <td>0.53</td>\n",
       "      <td>0.0</td>\n",
       "      <td>0.53</td>\n",
       "      <td>0.0</td>\n",
       "      <td>0.53</td>\n",
       "      <td>0.00</td>\n",
       "      <td>1.06</td>\n",
       "      <td>...</td>\n",
       "      <td>1.06</td>\n",
       "      <td>0.0</td>\n",
       "      <td>0.0</td>\n",
       "      <td>0.087</td>\n",
       "      <td>0.877</td>\n",
       "      <td>0.000</td>\n",
       "      <td>3.400</td>\n",
       "      <td>61</td>\n",
       "      <td>187</td>\n",
       "      <td>1</td>\n",
       "    </tr>\n",
       "  </tbody>\n",
       "</table>\n",
       "<p>5 rows × 22 columns</p>\n",
       "</div>"
      ],
      "text/plain": [
       "    X1    X2    X3    X4   X5    X6   X7    X8    X9   X10  ...   X13  X14  \\\n",
       "0  0.0  0.00  0.00  0.00  0.0  0.00  0.0  0.00  0.00  0.00  ...  2.11  0.7   \n",
       "1  0.0  0.00  0.00  0.00  0.0  0.00  0.0  3.33  0.00  0.00  ...  0.00  0.0   \n",
       "2  0.0  0.59  0.00  0.00  0.0  0.59  0.0  0.00  0.00  1.18  ...  0.00  0.0   \n",
       "3  0.3  0.00  0.61  0.00  0.0  0.92  0.3  2.15  0.61  0.00  ...  1.23  0.0   \n",
       "4  0.0  0.53  0.53  0.53  0.0  0.53  0.0  0.53  0.00  1.06  ...  1.06  0.0   \n",
       "\n",
       "   X15    X16    X17    X18     X19  X20  X21  Y  \n",
       "0  0.0  0.000  1.975  0.370  35.461   95  461  1  \n",
       "1  0.0  0.352  0.352  0.000   4.000   11   36  1  \n",
       "2  0.0  0.257  0.000  0.000   8.586   66  249  1  \n",
       "3  0.3  0.100  1.053  0.351   3.884   66  303  1  \n",
       "4  0.0  0.087  0.877  0.000   3.400   61  187  1  \n",
       "\n",
       "[5 rows x 22 columns]"
      ]
     },
     "execution_count": 137,
     "metadata": {},
     "output_type": "execute_result"
    }
   ],
   "source": [
    "data.head()"
   ]
  },
  {
   "cell_type": "code",
   "execution_count": 138,
   "metadata": {},
   "outputs": [
    {
     "name": "stdout",
     "output_type": "stream",
     "text": [
      "<class 'pandas.core.frame.DataFrame'>\n",
      "RangeIndex: 269 entries, 0 to 268\n",
      "Data columns (total 22 columns):\n",
      " #   Column  Non-Null Count  Dtype  \n",
      "---  ------  --------------  -----  \n",
      " 0   X1      269 non-null    float64\n",
      " 1   X2      269 non-null    float64\n",
      " 2   X3      269 non-null    float64\n",
      " 3   X4      269 non-null    float64\n",
      " 4   X5      269 non-null    float64\n",
      " 5   X6      269 non-null    float64\n",
      " 6   X7      269 non-null    float64\n",
      " 7   X8      269 non-null    float64\n",
      " 8   X9      269 non-null    float64\n",
      " 9   X10     269 non-null    float64\n",
      " 10  X11     269 non-null    float64\n",
      " 11  X12     269 non-null    float64\n",
      " 12  X13     269 non-null    float64\n",
      " 13  X14     269 non-null    float64\n",
      " 14  X15     269 non-null    float64\n",
      " 15  X16     269 non-null    float64\n",
      " 16  X17     269 non-null    float64\n",
      " 17  X18     269 non-null    float64\n",
      " 18  X19     269 non-null    float64\n",
      " 19  X20     269 non-null    int64  \n",
      " 20  X21     269 non-null    int64  \n",
      " 21  Y       269 non-null    int64  \n",
      "dtypes: float64(19), int64(3)\n",
      "memory usage: 46.4 KB\n"
     ]
    }
   ],
   "source": [
    "data.info()"
   ]
  },
  {
   "cell_type": "code",
   "execution_count": 139,
   "metadata": {},
   "outputs": [
    {
     "data": {
      "text/html": [
       "<div>\n",
       "<style scoped>\n",
       "    .dataframe tbody tr th:only-of-type {\n",
       "        vertical-align: middle;\n",
       "    }\n",
       "\n",
       "    .dataframe tbody tr th {\n",
       "        vertical-align: top;\n",
       "    }\n",
       "\n",
       "    .dataframe thead th {\n",
       "        text-align: right;\n",
       "    }\n",
       "</style>\n",
       "<table border=\"1\" class=\"dataframe\">\n",
       "  <thead>\n",
       "    <tr style=\"text-align: right;\">\n",
       "      <th></th>\n",
       "      <th>X1</th>\n",
       "      <th>X2</th>\n",
       "      <th>X3</th>\n",
       "      <th>X4</th>\n",
       "      <th>X5</th>\n",
       "      <th>X6</th>\n",
       "      <th>X7</th>\n",
       "      <th>X8</th>\n",
       "      <th>X9</th>\n",
       "      <th>X10</th>\n",
       "      <th>...</th>\n",
       "      <th>X13</th>\n",
       "      <th>X14</th>\n",
       "      <th>X15</th>\n",
       "      <th>X16</th>\n",
       "      <th>X17</th>\n",
       "      <th>X18</th>\n",
       "      <th>X19</th>\n",
       "      <th>X20</th>\n",
       "      <th>X21</th>\n",
       "      <th>Y</th>\n",
       "    </tr>\n",
       "  </thead>\n",
       "  <tbody>\n",
       "    <tr>\n",
       "      <th>count</th>\n",
       "      <td>269.000000</td>\n",
       "      <td>269.000000</td>\n",
       "      <td>269.000000</td>\n",
       "      <td>269.000000</td>\n",
       "      <td>269.000000</td>\n",
       "      <td>269.000000</td>\n",
       "      <td>269.000000</td>\n",
       "      <td>269.000000</td>\n",
       "      <td>269.000000</td>\n",
       "      <td>269.000000</td>\n",
       "      <td>...</td>\n",
       "      <td>269.000000</td>\n",
       "      <td>269.000000</td>\n",
       "      <td>269.000000</td>\n",
       "      <td>269.000000</td>\n",
       "      <td>269.000000</td>\n",
       "      <td>269.000000</td>\n",
       "      <td>269.000000</td>\n",
       "      <td>269.000000</td>\n",
       "      <td>269.000000</td>\n",
       "      <td>269.000000</td>\n",
       "    </tr>\n",
       "    <tr>\n",
       "      <th>mean</th>\n",
       "      <td>0.112305</td>\n",
       "      <td>0.291152</td>\n",
       "      <td>0.265911</td>\n",
       "      <td>0.313755</td>\n",
       "      <td>0.087807</td>\n",
       "      <td>0.542788</td>\n",
       "      <td>0.093792</td>\n",
       "      <td>0.244089</td>\n",
       "      <td>0.122156</td>\n",
       "      <td>0.277435</td>\n",
       "      <td>...</td>\n",
       "      <td>0.774498</td>\n",
       "      <td>0.090000</td>\n",
       "      <td>0.083755</td>\n",
       "      <td>0.121309</td>\n",
       "      <td>0.357104</td>\n",
       "      <td>0.057688</td>\n",
       "      <td>5.112922</td>\n",
       "      <td>53.881041</td>\n",
       "      <td>246.572491</td>\n",
       "      <td>0.434944</td>\n",
       "    </tr>\n",
       "    <tr>\n",
       "      <th>std</th>\n",
       "      <td>0.321830</td>\n",
       "      <td>1.559141</td>\n",
       "      <td>0.506822</td>\n",
       "      <td>0.829713</td>\n",
       "      <td>0.253429</td>\n",
       "      <td>0.908444</td>\n",
       "      <td>0.297380</td>\n",
       "      <td>0.683562</td>\n",
       "      <td>0.402623</td>\n",
       "      <td>0.781799</td>\n",
       "      <td>...</td>\n",
       "      <td>1.205342</td>\n",
       "      <td>0.323178</td>\n",
       "      <td>0.341209</td>\n",
       "      <td>0.177272</td>\n",
       "      <td>1.255913</td>\n",
       "      <td>0.142572</td>\n",
       "      <td>17.182637</td>\n",
       "      <td>136.297964</td>\n",
       "      <td>481.486426</td>\n",
       "      <td>0.496674</td>\n",
       "    </tr>\n",
       "    <tr>\n",
       "      <th>min</th>\n",
       "      <td>0.000000</td>\n",
       "      <td>0.000000</td>\n",
       "      <td>0.000000</td>\n",
       "      <td>0.000000</td>\n",
       "      <td>0.000000</td>\n",
       "      <td>0.000000</td>\n",
       "      <td>0.000000</td>\n",
       "      <td>0.000000</td>\n",
       "      <td>0.000000</td>\n",
       "      <td>0.000000</td>\n",
       "      <td>...</td>\n",
       "      <td>0.000000</td>\n",
       "      <td>0.000000</td>\n",
       "      <td>0.000000</td>\n",
       "      <td>0.000000</td>\n",
       "      <td>0.000000</td>\n",
       "      <td>0.000000</td>\n",
       "      <td>1.000000</td>\n",
       "      <td>1.000000</td>\n",
       "      <td>1.000000</td>\n",
       "      <td>0.000000</td>\n",
       "    </tr>\n",
       "    <tr>\n",
       "      <th>25%</th>\n",
       "      <td>0.000000</td>\n",
       "      <td>0.000000</td>\n",
       "      <td>0.000000</td>\n",
       "      <td>0.000000</td>\n",
       "      <td>0.000000</td>\n",
       "      <td>0.000000</td>\n",
       "      <td>0.000000</td>\n",
       "      <td>0.000000</td>\n",
       "      <td>0.000000</td>\n",
       "      <td>0.000000</td>\n",
       "      <td>...</td>\n",
       "      <td>0.000000</td>\n",
       "      <td>0.000000</td>\n",
       "      <td>0.000000</td>\n",
       "      <td>0.000000</td>\n",
       "      <td>0.000000</td>\n",
       "      <td>0.000000</td>\n",
       "      <td>1.625000</td>\n",
       "      <td>7.000000</td>\n",
       "      <td>35.000000</td>\n",
       "      <td>0.000000</td>\n",
       "    </tr>\n",
       "    <tr>\n",
       "      <th>50%</th>\n",
       "      <td>0.000000</td>\n",
       "      <td>0.000000</td>\n",
       "      <td>0.000000</td>\n",
       "      <td>0.000000</td>\n",
       "      <td>0.000000</td>\n",
       "      <td>0.000000</td>\n",
       "      <td>0.000000</td>\n",
       "      <td>0.000000</td>\n",
       "      <td>0.000000</td>\n",
       "      <td>0.000000</td>\n",
       "      <td>...</td>\n",
       "      <td>0.000000</td>\n",
       "      <td>0.000000</td>\n",
       "      <td>0.000000</td>\n",
       "      <td>0.066000</td>\n",
       "      <td>0.043000</td>\n",
       "      <td>0.000000</td>\n",
       "      <td>2.360000</td>\n",
       "      <td>15.000000</td>\n",
       "      <td>84.000000</td>\n",
       "      <td>0.000000</td>\n",
       "    </tr>\n",
       "    <tr>\n",
       "      <th>75%</th>\n",
       "      <td>0.000000</td>\n",
       "      <td>0.000000</td>\n",
       "      <td>0.400000</td>\n",
       "      <td>0.310000</td>\n",
       "      <td>0.000000</td>\n",
       "      <td>0.770000</td>\n",
       "      <td>0.000000</td>\n",
       "      <td>0.130000</td>\n",
       "      <td>0.000000</td>\n",
       "      <td>0.000000</td>\n",
       "      <td>...</td>\n",
       "      <td>1.260000</td>\n",
       "      <td>0.000000</td>\n",
       "      <td>0.000000</td>\n",
       "      <td>0.175000</td>\n",
       "      <td>0.345000</td>\n",
       "      <td>0.019000</td>\n",
       "      <td>4.093000</td>\n",
       "      <td>47.000000</td>\n",
       "      <td>212.000000</td>\n",
       "      <td>1.000000</td>\n",
       "    </tr>\n",
       "    <tr>\n",
       "      <th>max</th>\n",
       "      <td>2.320000</td>\n",
       "      <td>14.280000</td>\n",
       "      <td>3.700000</td>\n",
       "      <td>7.690000</td>\n",
       "      <td>1.880000</td>\n",
       "      <td>5.260000</td>\n",
       "      <td>1.810000</td>\n",
       "      <td>7.350000</td>\n",
       "      <td>3.330000</td>\n",
       "      <td>6.660000</td>\n",
       "      <td>...</td>\n",
       "      <td>8.000000</td>\n",
       "      <td>2.950000</td>\n",
       "      <td>4.410000</td>\n",
       "      <td>1.336000</td>\n",
       "      <td>19.131000</td>\n",
       "      <td>1.223000</td>\n",
       "      <td>251.000000</td>\n",
       "      <td>1488.000000</td>\n",
       "      <td>3525.000000</td>\n",
       "      <td>1.000000</td>\n",
       "    </tr>\n",
       "  </tbody>\n",
       "</table>\n",
       "<p>8 rows × 22 columns</p>\n",
       "</div>"
      ],
      "text/plain": [
       "               X1          X2          X3          X4          X5          X6  \\\n",
       "count  269.000000  269.000000  269.000000  269.000000  269.000000  269.000000   \n",
       "mean     0.112305    0.291152    0.265911    0.313755    0.087807    0.542788   \n",
       "std      0.321830    1.559141    0.506822    0.829713    0.253429    0.908444   \n",
       "min      0.000000    0.000000    0.000000    0.000000    0.000000    0.000000   \n",
       "25%      0.000000    0.000000    0.000000    0.000000    0.000000    0.000000   \n",
       "50%      0.000000    0.000000    0.000000    0.000000    0.000000    0.000000   \n",
       "75%      0.000000    0.000000    0.400000    0.310000    0.000000    0.770000   \n",
       "max      2.320000   14.280000    3.700000    7.690000    1.880000    5.260000   \n",
       "\n",
       "               X7          X8          X9         X10  ...         X13  \\\n",
       "count  269.000000  269.000000  269.000000  269.000000  ...  269.000000   \n",
       "mean     0.093792    0.244089    0.122156    0.277435  ...    0.774498   \n",
       "std      0.297380    0.683562    0.402623    0.781799  ...    1.205342   \n",
       "min      0.000000    0.000000    0.000000    0.000000  ...    0.000000   \n",
       "25%      0.000000    0.000000    0.000000    0.000000  ...    0.000000   \n",
       "50%      0.000000    0.000000    0.000000    0.000000  ...    0.000000   \n",
       "75%      0.000000    0.130000    0.000000    0.000000  ...    1.260000   \n",
       "max      1.810000    7.350000    3.330000    6.660000  ...    8.000000   \n",
       "\n",
       "              X14         X15         X16         X17         X18         X19  \\\n",
       "count  269.000000  269.000000  269.000000  269.000000  269.000000  269.000000   \n",
       "mean     0.090000    0.083755    0.121309    0.357104    0.057688    5.112922   \n",
       "std      0.323178    0.341209    0.177272    1.255913    0.142572   17.182637   \n",
       "min      0.000000    0.000000    0.000000    0.000000    0.000000    1.000000   \n",
       "25%      0.000000    0.000000    0.000000    0.000000    0.000000    1.625000   \n",
       "50%      0.000000    0.000000    0.066000    0.043000    0.000000    2.360000   \n",
       "75%      0.000000    0.000000    0.175000    0.345000    0.019000    4.093000   \n",
       "max      2.950000    4.410000    1.336000   19.131000    1.223000  251.000000   \n",
       "\n",
       "               X20          X21           Y  \n",
       "count   269.000000   269.000000  269.000000  \n",
       "mean     53.881041   246.572491    0.434944  \n",
       "std     136.297964   481.486426    0.496674  \n",
       "min       1.000000     1.000000    0.000000  \n",
       "25%       7.000000    35.000000    0.000000  \n",
       "50%      15.000000    84.000000    0.000000  \n",
       "75%      47.000000   212.000000    1.000000  \n",
       "max    1488.000000  3525.000000    1.000000  \n",
       "\n",
       "[8 rows x 22 columns]"
      ]
     },
     "execution_count": 139,
     "metadata": {},
     "output_type": "execute_result"
    }
   ],
   "source": [
    "data.describe()"
   ]
  },
  {
   "cell_type": "markdown",
   "metadata": {},
   "source": [
    "## train test split"
   ]
  },
  {
   "cell_type": "code",
   "execution_count": 140,
   "metadata": {},
   "outputs": [],
   "source": [
    "Y = data['Y']\n",
    "X = data.copy()\n",
    "del X[\"Y\"]"
   ]
  },
  {
   "cell_type": "code",
   "execution_count": 141,
   "metadata": {},
   "outputs": [],
   "source": [
    "X_train, X_test, y_train, y_test = train_test_split(X, Y, test_size=0.2, random_state=42)"
   ]
  },
  {
   "cell_type": "code",
   "execution_count": 142,
   "metadata": {},
   "outputs": [
    {
     "data": {
      "text/plain": [
       "(215, 21)"
      ]
     },
     "execution_count": 142,
     "metadata": {},
     "output_type": "execute_result"
    }
   ],
   "source": [
    "X_train.shape"
   ]
  },
  {
   "cell_type": "code",
   "execution_count": 143,
   "metadata": {},
   "outputs": [
    {
     "data": {
      "text/plain": [
       "(215,)"
      ]
     },
     "execution_count": 143,
     "metadata": {},
     "output_type": "execute_result"
    }
   ],
   "source": [
    "y_train.shape"
   ]
  },
  {
   "cell_type": "code",
   "execution_count": 144,
   "metadata": {},
   "outputs": [
    {
     "data": {
      "text/plain": [
       "(54, 21)"
      ]
     },
     "execution_count": 144,
     "metadata": {},
     "output_type": "execute_result"
    }
   ],
   "source": [
    "X_test.shape"
   ]
  },
  {
   "cell_type": "code",
   "execution_count": 145,
   "metadata": {},
   "outputs": [
    {
     "data": {
      "text/plain": [
       "(54,)"
      ]
     },
     "execution_count": 145,
     "metadata": {},
     "output_type": "execute_result"
    }
   ],
   "source": [
    "y_test.shape"
   ]
  },
  {
   "cell_type": "code",
   "execution_count": 146,
   "metadata": {},
   "outputs": [],
   "source": [
    "XX_train = X_train.values\n",
    "XX_test = X_test.values"
   ]
  },
  {
   "cell_type": "markdown",
   "metadata": {},
   "source": [
    "# Random numbers"
   ]
  },
  {
   "cell_type": "code",
   "execution_count": 147,
   "metadata": {},
   "outputs": [
    {
     "name": "stdout",
     "output_type": "stream",
     "text": [
      "[ 98 206  53  46 204  48  97 192 126 187 202  92  61 122 136 198  49 167\n",
      "  47  10 112   0  18 189 151 211 126 155 110 131 196  12 138  61  86 210\n",
      " 202  44 196  55 214  18 163 181 117  70 113  32  76 169]\n"
     ]
    }
   ],
   "source": [
    "random_numbers = random.choice(a = range(XX_train.shape[0]), replace = True, size = 50)\n",
    "print(random_numbers)"
   ]
  },
  {
   "cell_type": "markdown",
   "metadata": {},
   "source": [
    "# Gram Matrix"
   ]
  },
  {
   "cell_type": "code",
   "execution_count": 148,
   "metadata": {},
   "outputs": [
    {
     "name": "stdout",
     "output_type": "stream",
     "text": [
      "0.0\n"
     ]
    }
   ],
   "source": [
    "def K(x1, x2, gamma = 1/21):\n",
    "    tmp = -gamma * linalg.norm(x1 - x2)**2\n",
    "    return exp(tmp)\n",
    "\n",
    "#test\n",
    "print(K(XX_train[12,:], XX_train[1,:]))\n"
   ]
  },
  {
   "cell_type": "code",
   "execution_count": 149,
   "metadata": {},
   "outputs": [],
   "source": [
    "def compute_W(XX_train, random_numbers, gamma = 1/21):\n",
    "    start_time = time.time()\n",
    "    c = len(random_numbers)\n",
    "    W = zeros((c, c))\n",
    "    index0 = 0\n",
    "    for i in random_numbers:\n",
    "        index1 = 0\n",
    "        for j in random_numbers:\n",
    "            W[index0, index1] = K(XX_train[i, :], XX_train[j, :], gamma)\n",
    "            index1 += 1\n",
    "        index0 += 1\n",
    "    print(\"Execution time: \", time.time() - start_time, ' s')\n",
    "    return W"
   ]
  },
  {
   "cell_type": "code",
   "execution_count": 150,
   "metadata": {},
   "outputs": [
    {
     "name": "stdout",
     "output_type": "stream",
     "text": [
      "Execution time:  0.11362671852111816  s\n"
     ]
    },
    {
     "data": {
      "text/plain": [
       "array([[1.00000000e+00, 0.00000000e+00, 0.00000000e+00, ...,\n",
       "        0.00000000e+00, 0.00000000e+00, 0.00000000e+00],\n",
       "       [0.00000000e+00, 1.00000000e+00, 0.00000000e+00, ...,\n",
       "        0.00000000e+00, 0.00000000e+00, 0.00000000e+00],\n",
       "       [0.00000000e+00, 0.00000000e+00, 1.00000000e+00, ...,\n",
       "        3.06144696e-43, 1.35078221e-28, 0.00000000e+00],\n",
       "       ...,\n",
       "       [0.00000000e+00, 0.00000000e+00, 3.06144696e-43, ...,\n",
       "        1.00000000e+00, 1.20146759e-02, 0.00000000e+00],\n",
       "       [0.00000000e+00, 0.00000000e+00, 1.35078221e-28, ...,\n",
       "        1.20146759e-02, 1.00000000e+00, 0.00000000e+00],\n",
       "       [0.00000000e+00, 0.00000000e+00, 0.00000000e+00, ...,\n",
       "        0.00000000e+00, 0.00000000e+00, 1.00000000e+00]])"
      ]
     },
     "execution_count": 150,
     "metadata": {},
     "output_type": "execute_result"
    }
   ],
   "source": [
    "W = compute_W(XX_train, random_numbers)\n",
    "W"
   ]
  },
  {
   "cell_type": "code",
   "execution_count": 151,
   "metadata": {},
   "outputs": [
    {
     "data": {
      "text/plain": [
       "array([0.02      , 0.02      , 0.02007471, 0.02      , 0.02160427,\n",
       "       0.02      , 0.02      , 0.02350756, 0.0573169 , 0.02      ,\n",
       "       0.04009366, 0.02898014, 0.0579717 , 0.02123797, 0.02      ,\n",
       "       0.05652507, 0.0830453 , 0.05829609, 0.03189584, 0.0200356 ,\n",
       "       0.03799798, 0.02      , 0.04015145, 0.05091405, 0.0830453 ,\n",
       "       0.02024838, 0.0573169 , 0.02      , 0.02324672, 0.08196786,\n",
       "       0.04708376, 0.02040957, 0.02      , 0.0579717 , 0.02      ,\n",
       "       0.02898026, 0.04009366, 0.02117162, 0.04708376, 0.02      ,\n",
       "       0.05039798, 0.04015145, 0.03424162, 0.02576423, 0.02      ,\n",
       "       0.04701377, 0.06509892, 0.05735025, 0.04139243, 0.02      ])"
      ]
     },
     "execution_count": 151,
     "metadata": {},
     "output_type": "execute_result"
    }
   ],
   "source": [
    "mean(W, axis = 0)"
   ]
  },
  {
   "cell_type": "code",
   "execution_count": 152,
   "metadata": {},
   "outputs": [
    {
     "data": {
      "text/plain": [
       "<matplotlib.image.AxesImage at 0x210b0f3fa60>"
      ]
     },
     "execution_count": 152,
     "metadata": {},
     "output_type": "execute_result"
    },
    {
     "data": {
      "image/png": "[encoded data removed]",
      "text/plain": [
       "<Figure size 432x288 with 1 Axes>"
      ]
     },
     "metadata": {
      "needs_background": "light"
     },
     "output_type": "display_data"
    }
   ],
   "source": [
    "imshow(W)"
   ]
  },
  {
   "cell_type": "markdown",
   "metadata": {},
   "source": [
    "# partial SVD"
   ]
  },
  {
   "cell_type": "code",
   "execution_count": 153,
   "metadata": {},
   "outputs": [],
   "source": [
    "def partial_svd(W, k = 10):\n",
    "    start_time = time.time()\n",
    "    U, S, Vh = linalg.svd(W) #SVD on W\n",
    "    Uk = U[:, :k] #Uk, k first columns of U\n",
    "    Sk_invsqrt = S[:k]**(-1/2) #Sk, k first lines & columns of S\n",
    "    print(\"Execution time: \", time.time() - start_time, ' s')\n",
    "    return dot(Uk, diag(Sk_invsqrt)) #** term by term"
   ]
  },
  {
   "cell_type": "code",
   "execution_count": 154,
   "metadata": {},
   "outputs": [
    {
     "name": "stdout",
     "output_type": "stream",
     "text": [
      "Execution time:  0.010993480682373047  s\n"
     ]
    },
    {
     "data": {
      "text/plain": [
       "(50, 10)"
      ]
     },
     "execution_count": 154,
     "metadata": {},
     "output_type": "execute_result"
    }
   ],
   "source": [
    "Mk = partial_svd(W)\n",
    "Mk.shape"
   ]
  },
  {
   "cell_type": "code",
   "execution_count": 155,
   "metadata": {},
   "outputs": [
    {
     "data": {
      "text/plain": [
       "<matplotlib.image.AxesImage at 0x210b0f8eb20>"
      ]
     },
     "execution_count": 155,
     "metadata": {},
     "output_type": "execute_result"
    },
    {
     "data": {
      "image/png": "[encoded data removed]",
      "text/plain": [
       "<Figure size 432x288 with 1 Axes>"
      ]
     },
     "metadata": {
      "needs_background": "light"
     },
     "output_type": "display_data"
    }
   ],
   "source": [
    "imshow(Mk)"
   ]
  },
  {
   "cell_type": "markdown",
   "metadata": {},
   "source": [
    "# C, Z computations"
   ]
  },
  {
   "cell_type": "code",
   "execution_count": 156,
   "metadata": {},
   "outputs": [],
   "source": [
    "def compute_C(X, random_numbers, X_train = XX_train, gamma = 1/21):\n",
    "    start_time = time.time()\n",
    "    c = len(random_numbers)\n",
    "    C = zeros((len(X), c))\n",
    "    for i in range(len(X)):\n",
    "        for j in range(c):\n",
    "            C[i, j] = K(X[i, :], X_train[random_numbers[j], :], gamma)\n",
    "    print(\"Execution time: \", time.time() - start_time, ' s')\n",
    "    return C"
   ]
  },
  {
   "cell_type": "code",
   "execution_count": 157,
   "metadata": {},
   "outputs": [
    {
     "name": "stdout",
     "output_type": "stream",
     "text": [
      "Execution time:  0.276125431060791  s\n"
     ]
    },
    {
     "data": {
      "text/plain": [
       "(215, 50)"
      ]
     },
     "execution_count": 157,
     "metadata": {},
     "output_type": "execute_result"
    }
   ],
   "source": [
    "Ctrain = compute_C(XX_train, random_numbers)\n",
    "Ctrain.shape"
   ]
  },
  {
   "cell_type": "code",
   "execution_count": 158,
   "metadata": {},
   "outputs": [
    {
     "data": {
      "text/plain": [
       "<matplotlib.image.AxesImage at 0x210b0fdac40>"
      ]
     },
     "execution_count": 158,
     "metadata": {},
     "output_type": "execute_result"
    },
    {
     "data": {
      "image/png": "[encoded data removed]",
      "text/plain": [
       "<Figure size 432x288 with 1 Axes>"
      ]
     },
     "metadata": {
      "needs_background": "light"
     },
     "output_type": "display_data"
    }
   ],
   "source": [
    "imshow(Ctrain)"
   ]
  },
  {
   "cell_type": "code",
   "execution_count": 159,
   "metadata": {},
   "outputs": [
    {
     "name": "stdout",
     "output_type": "stream",
     "text": [
      "Execution time:  0.058251380920410156  s\n"
     ]
    },
    {
     "data": {
      "text/plain": [
       "(54, 50)"
      ]
     },
     "execution_count": 159,
     "metadata": {},
     "output_type": "execute_result"
    }
   ],
   "source": [
    "Ctest = compute_C(XX_test, random_numbers)\n",
    "Ctest.shape"
   ]
  },
  {
   "cell_type": "code",
   "execution_count": 160,
   "metadata": {},
   "outputs": [
    {
     "data": {
      "text/plain": [
       "<matplotlib.image.AxesImage at 0x210b1030a90>"
      ]
     },
     "execution_count": 160,
     "metadata": {},
     "output_type": "execute_result"
    },
    {
     "data": {
      "image/png": "[encoded data removed]",
      "text/plain": [
       "<Figure size 432x288 with 1 Axes>"
      ]
     },
     "metadata": {
      "needs_background": "light"
     },
     "output_type": "display_data"
    }
   ],
   "source": [
    "imshow(Ctest)"
   ]
  },
  {
   "cell_type": "code",
   "execution_count": 161,
   "metadata": {},
   "outputs": [
    {
     "name": "stdout",
     "output_type": "stream",
     "text": [
      "execution time :  0.0009996891021728516  s\n"
     ]
    },
    {
     "data": {
      "text/plain": [
       "(215, 10)"
      ]
     },
     "execution_count": 161,
     "metadata": {},
     "output_type": "execute_result"
    }
   ],
   "source": [
    "start_time = time.time()\n",
    "Ztrain = dot(Ctrain, Mk)\n",
    "print(\"execution time : \",time.time() - start_time, \" s\")\n",
    "Ztrain.shape"
   ]
  },
  {
   "cell_type": "code",
   "execution_count": 162,
   "metadata": {},
   "outputs": [
    {
     "data": {
      "text/plain": [
       "<matplotlib.image.AxesImage at 0x210b1081e80>"
      ]
     },
     "execution_count": 162,
     "metadata": {},
     "output_type": "execute_result"
    },
    {
     "data": {
      "image/png": "[encoded data removed]",
      "text/plain": [
       "<Figure size 432x288 with 1 Axes>"
      ]
     },
     "metadata": {
      "needs_background": "light"
     },
     "output_type": "display_data"
    }
   ],
   "source": [
    "imshow(Ztrain)"
   ]
  },
  {
   "cell_type": "code",
   "execution_count": 163,
   "metadata": {},
   "outputs": [
    {
     "name": "stdout",
     "output_type": "stream",
     "text": [
      "execution time :  0.0009996891021728516  s\n"
     ]
    },
    {
     "data": {
      "text/plain": [
       "(54, 10)"
      ]
     },
     "execution_count": 163,
     "metadata": {},
     "output_type": "execute_result"
    }
   ],
   "source": [
    "start_time = time.time()\n",
    "Ztest = dot(Ctest, Mk)\n",
    "print(\"execution time : \",time.time() - start_time, \" s\")\n",
    "Ztest.shape"
   ]
  },
  {
   "cell_type": "code",
   "execution_count": 164,
   "metadata": {},
   "outputs": [
    {
     "data": {
      "text/plain": [
       "<matplotlib.image.AxesImage at 0x210b10dad00>"
      ]
     },
     "execution_count": 164,
     "metadata": {},
     "output_type": "execute_result"
    },
    {
     "data": {
      "image/png": "[encoded data removed]",
      "text/plain": [
       "<Figure size 432x288 with 1 Axes>"
      ]
     },
     "metadata": {
      "needs_background": "light"
     },
     "output_type": "display_data"
    }
   ],
   "source": [
    "imshow(Ztest)"
   ]
  },
  {
   "cell_type": "markdown",
   "metadata": {},
   "source": [
    "# SVM with initial data"
   ]
  },
  {
   "cell_type": "code",
   "execution_count": 165,
   "metadata": {},
   "outputs": [
    {
     "data": {
      "text/plain": [
       "0.8333333333333334"
      ]
     },
     "execution_count": 165,
     "metadata": {},
     "output_type": "execute_result"
    }
   ],
   "source": [
    "machine1 = LinearSVC(dual = False, max_iter = 2000) #default C = 1\n",
    "machine1.fit(X_train, y_train)\n",
    "accuracy_score(y_test, machine1.predict(X_test))"
   ]
  },
  {
   "cell_type": "markdown",
   "metadata": {},
   "source": [
    "# SVM with Z"
   ]
  },
  {
   "cell_type": "code",
   "execution_count": 166,
   "metadata": {},
   "outputs": [
    {
     "data": {
      "text/plain": [
       "0.5925925925925926"
      ]
     },
     "execution_count": 166,
     "metadata": {},
     "output_type": "execute_result"
    }
   ],
   "source": [
    "machine2 = LinearSVC(dual = False, max_iter = 2000)\n",
    "machine2.fit(Ztest, y_test)\n",
    "accuracy_score(y_test, machine2.predict(Ztest))"
   ]
  },
  {
   "cell_type": "markdown",
   "metadata": {},
   "source": [
    "# Conculsions\n",
    "\n",
    "Définitivement la méthode avec matrice de Gram est moins efficace que la sortie SVC standard.\n",
    "En revanche les dimensions de la matrice d'apprentissage sont bien plus petites (auto réduction des dimensions).\n",
    "\n",
    "On pouvait s'attendre à ce que cela marche mieux mais je remarque que dans la ligne d'exemple dans le sujet, il semble possible que dans le svm($Y\\sim \\dots$, data =), le Y n'ait jamais été sorti des données, ce qui veut dire d'une part que Z dépend de Y et que d'autre part le modèle apprend $Y\\sim Y \\dots$,etc. (on prédit avec l'oracle).\n",
    "\n",
    "Il aurait peut être fallu garder un set de train (X, y) et les séparer à l'entrée du modèle.\n",
    "\n",
    "Quant aux temps de calculs, tout est quasi-instantanné (matrices de petites dimensions + matrices creuses).\n",
    "\n",
    "Une renormalisation des données avant procédure aurait peut être permis d'améliorer les résultats."
   ]
  }
 ],
 "metadata": {
  "kernelspec": {
   "display_name": "Python 3",
   "language": "python",
   "name": "python3"
  },
  "language_info": {
   "codemirror_mode": {
    "name": "ipython",
    "version": 3
   },
   "file_extension": ".py",
   "mimetype": "text/x-python",
   "name": "python",
   "nbconvert_exporter": "python",
   "pygments_lexer": "ipython3",
   "version": "3.8.5"
  }
 },
 "nbformat": 4,
 "nbformat_minor": 4
}
